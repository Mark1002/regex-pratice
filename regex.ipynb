{
 "metadata": {
  "language_info": {
   "codemirror_mode": {
    "name": "ipython",
    "version": 3
   },
   "file_extension": ".py",
   "mimetype": "text/x-python",
   "name": "python",
   "nbconvert_exporter": "python",
   "pygments_lexer": "ipython3",
   "version": "3.8.2"
  },
  "orig_nbformat": 2,
  "kernelspec": {
   "name": "python382jvsc74a57bd0593b6af05765ff12257a196fa1432146befddb5b00b367e5808c12318af55188",
   "display_name": "Python 3.8.2 64-bit ('regex-pratice': pyenv)"
  },
  "metadata": {
   "interpreter": {
    "hash": "593b6af05765ff12257a196fa1432146befddb5b00b367e5808c12318af55188"
   }
  }
 },
 "nbformat": 4,
 "nbformat_minor": 2,
 "cells": [
  {
   "cell_type": "code",
   "execution_count": 2,
   "metadata": {},
   "outputs": [],
   "source": [
    "import re"
   ]
  },
  {
   "cell_type": "code",
   "execution_count": 58,
   "metadata": {},
   "outputs": [],
   "source": [
    "regex = re.compile('\\s+') # + mean at least occur 1 equal to {1,}"
   ]
  },
  {
   "cell_type": "code",
   "execution_count": 59,
   "metadata": {},
   "outputs": [],
   "source": [
    "text = \"\"\"101 COM    Computers\n",
    "205 MAT   Mathematics\n",
    "189 ENG   English\"\"\" "
   ]
  },
  {
   "cell_type": "code",
   "execution_count": 60,
   "metadata": {},
   "outputs": [
    {
     "output_type": "execute_result",
     "data": {
      "text/plain": [
       "['101',\n",
       " 'COM',\n",
       " 'Computers',\n",
       " '205',\n",
       " 'MAT',\n",
       " 'Mathematics',\n",
       " '189',\n",
       " 'ENG',\n",
       " 'English']"
      ]
     },
     "metadata": {},
     "execution_count": 60
    }
   ],
   "source": [
    "regex.split(text)"
   ]
  },
  {
   "cell_type": "code",
   "execution_count": 19,
   "metadata": {},
   "outputs": [
    {
     "output_type": "execute_result",
     "data": {
      "text/plain": [
       "['101', '205', '189']"
      ]
     },
     "metadata": {},
     "execution_count": 19
    }
   ],
   "source": [
    "regex_num = re.compile('\\d+')\n",
    "regex_num.findall(text)"
   ]
  },
  {
   "cell_type": "code",
   "execution_count": 20,
   "metadata": {},
   "outputs": [
    {
     "output_type": "stream",
     "name": "stdout",
     "text": [
      "Starting Position:  17\nEnding Position:  20\n205\n"
     ]
    }
   ],
   "source": [
    "# define the text\n",
    "text2 = \"\"\"COM    Computers\n",
    "205 MAT   Mathematics 189\"\"\"\n",
    "\n",
    "# compile the regex and search the pattern\n",
    "regex_num = re.compile('\\d+')\n",
    "s = regex_num.search(text2)\n",
    "\n",
    "print('Starting Position: ', s.start())\n",
    "print('Ending Position: ', s.end())\n",
    "print(text2[s.start():s.end()])"
   ]
  },
  {
   "cell_type": "code",
   "execution_count": 34,
   "metadata": {},
   "outputs": [
    {
     "output_type": "execute_result",
     "data": {
      "text/plain": [
       "<re.Match object; span=(0, 4), match='3333'>"
      ]
     },
     "metadata": {},
     "execution_count": 34
    }
   ],
   "source": [
    "# match only match regex in same line\n",
    "regex_num.match(\"3333 4444\")"
   ]
  },
  {
   "cell_type": "code",
   "execution_count": 61,
   "metadata": {},
   "outputs": [
    {
     "output_type": "stream",
     "name": "stdout",
     "text": [
      "101   COM \t  Computers\n205   MAT \t  Mathematics\n189   ENG  \t  English\n"
     ]
    }
   ],
   "source": [
    "text = \"\"\"101   COM \\t  Computers\n",
    "205   MAT \\t  Mathematics\n",
    "189   ENG  \\t  English\"\"\"  \n",
    "print(text)"
   ]
  },
  {
   "cell_type": "code",
   "execution_count": 62,
   "metadata": {},
   "outputs": [
    {
     "output_type": "stream",
     "name": "stdout",
     "text": [
      "101 COM Computers 205 MAT Mathematics 189 ENG English\n"
     ]
    }
   ],
   "source": [
    "# replace one or more spaces with single space\n",
    "regex = re.compile('\\s+')\n",
    "print(regex.sub(' ', text))"
   ]
  },
  {
   "cell_type": "code",
   "execution_count": 63,
   "metadata": {},
   "outputs": [
    {
     "output_type": "stream",
     "name": "stdout",
     "text": [
      "101 COM Computers\n205 MAT Mathematics\n189 ENG English\n"
     ]
    }
   ],
   "source": [
    "# get rid of all extra spaces except newline\n",
    "regex = re.compile('((?!\\n)\\s+)')\n",
    "print(regex.sub(' ', text))"
   ]
  },
  {
   "cell_type": "code",
   "execution_count": 64,
   "metadata": {},
   "outputs": [
    {
     "output_type": "execute_result",
     "data": {
      "text/plain": [
       "[('101', 'COM', 'Computers'),\n",
       " ('205', 'MAT', 'Mathematics'),\n",
       " ('189', 'ENG', 'English')]"
      ]
     },
     "metadata": {},
     "execution_count": 64
    }
   ],
   "source": [
    "# define the course text pattern groups and extract\n",
    "course_pattern = '([0-9]+)\\s*([A-Z]{3})\\s*([A-Za-z]{4,})'\n",
    "re.findall(course_pattern, text)"
   ]
  },
  {
   "cell_type": "code",
   "execution_count": 66,
   "metadata": {},
   "outputs": [
    {
     "output_type": "execute_result",
     "data": {
      "text/plain": [
       "['< body>Regex Greedy Matching Example < /body>']"
      ]
     },
     "metadata": {},
     "execution_count": 66
    }
   ],
   "source": [
    "# greedy matching vs lazy matching\n",
    "text = \"< body>Regex Greedy Matching Example < /body>\"\n",
    "re.findall('<.*>', text)"
   ]
  },
  {
   "cell_type": "code",
   "execution_count": 67,
   "metadata": {},
   "outputs": [
    {
     "output_type": "execute_result",
     "data": {
      "text/plain": [
       "['< body>', '< /body>']"
      ]
     },
     "metadata": {},
     "execution_count": 67
    }
   ],
   "source": [
    "re.findall('<.*?>', text)"
   ]
  },
  {
   "cell_type": "code",
   "execution_count": 68,
   "metadata": {},
   "outputs": [
    {
     "output_type": "execute_result",
     "data": {
      "text/plain": [
       "['toy']"
      ]
     },
     "metadata": {},
     "execution_count": 68
    }
   ],
   "source": [
    "re.findall(r'\\btoy\\b', 'play toy broke toys')  # match toy with boundary on both sides"
   ]
  },
  {
   "cell_type": "code",
   "execution_count": 73,
   "metadata": {},
   "outputs": [
    {
     "output_type": "execute_result",
     "data": {
      "text/plain": [
       "'A very very irregular sentence'"
      ]
     },
     "metadata": {},
     "execution_count": 73
    }
   ],
   "source": [
    "sentence = \"\"\"A, very   very; irregular_sentence\"\"\"\n",
    "\" \".join(re.split('[;,\\s_]+', sentence))"
   ]
  }
 ]
}